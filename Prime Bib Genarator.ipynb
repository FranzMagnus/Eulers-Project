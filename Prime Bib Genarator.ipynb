{
 "cells": [
  {
   "cell_type": "code",
   "execution_count": 20,
   "metadata": {},
   "outputs": [],
   "source": [
    "import csv\n",
    "import math"
   ]
  },
  {
   "cell_type": "code",
   "execution_count": 28,
   "metadata": {},
   "outputs": [],
   "source": [
    "def anyMatch(i):\n",
    "    sqrt = math.sqrt(i)\n",
    "    for x in primes:\n",
    "        if x < sqrt:\n",
    "            if i%x == 0:\n",
    "                return 1\n",
    "        else:\n",
    "            return 0\n",
    "    return 0\n",
    "\n",
    "def isPrime(i):\n",
    "        if i==1:\n",
    "            return 0\n",
    "        elif i==2:\n",
    "            primes.append(i)\n",
    "            return 1 \n",
    "        else:\n",
    "            prime = anyMatch(i)\n",
    "            if prime == 0:\n",
    "                primes.append(i) \n",
    "                return 1\n",
    "            else:\n",
    "                return 0"
   ]
  },
  {
   "cell_type": "code",
   "execution_count": null,
   "metadata": {},
   "outputs": [],
   "source": [
    "primes = []\n",
    "\n",
    "with open('prime_bib.csv', 'w', newline='') as f:\n",
    "    writer = csv.writer(f)\n",
    "    writer.writerow([\"primes\"])\n",
    "    for x in range(1,1000000000000000000000000000000):\n",
    "        if isPrime(x) == 1:\n",
    "            writer.writerow([x])"
   ]
  }
 ],
 "metadata": {
  "kernelspec": {
   "display_name": "Python 3",
   "language": "python",
   "name": "python3"
  },
  "language_info": {
   "codemirror_mode": {
    "name": "ipython",
    "version": 3
   },
   "file_extension": ".py",
   "mimetype": "text/x-python",
   "name": "python",
   "nbconvert_exporter": "python",
   "pygments_lexer": "ipython3",
   "version": "3.8.5"
  }
 },
 "nbformat": 4,
 "nbformat_minor": 4
}
