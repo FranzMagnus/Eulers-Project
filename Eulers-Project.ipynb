{
 "cells": [
  {
   "cell_type": "markdown",
   "metadata": {},
   "source": [
    "**Problem 1**"
   ]
  },
  {
   "cell_type": "code",
   "execution_count": 1,
   "metadata": {},
   "outputs": [
    {
     "name": "stdout",
     "output_type": "stream",
     "text": [
      "233168\n"
     ]
    }
   ],
   "source": [
    "number = int(input(\"Please enter Number: \"))\n",
    "output = 0\n",
    "i=1\n",
    "while i<number:\n",
    "    if i%3 == 0 or i%5 == 0:\n",
    "        output+=i\n",
    "    i += 1\n",
    "print(output)"
   ]
  },
  {
   "cell_type": "markdown",
   "metadata": {},
   "source": [
    "**Problem 2**"
   ]
  },
  {
   "cell_type": "code",
   "execution_count": 2,
   "metadata": {},
   "outputs": [
    {
     "name": "stdout",
     "output_type": "stream",
     "text": [
      "4613732\n"
     ]
    }
   ],
   "source": [
    "output=0\n",
    "one = 1\n",
    "two = 1\n",
    "sum = 0\n",
    "while sum < 4000000:\n",
    "    sum = one+two\n",
    "    one = two\n",
    "    two = sum\n",
    "    if sum%2 == 0:\n",
    "     output+=sum\n",
    "print(output)"
   ]
  },
  {
   "cell_type": "markdown",
   "metadata": {},
   "source": [
    "**Problem 3**"
   ]
  },
  {
   "cell_type": "code",
   "execution_count": 7,
   "metadata": {},
   "outputs": [
    {
     "name": "stdout",
     "output_type": "stream",
     "text": [
      "6857\n"
     ]
    }
   ],
   "source": [
    "import math\n",
    "def anyMatch(i):\n",
    "    for x in primes: \n",
    "        if i%x == 0:\n",
    "            return 1\n",
    "    return 0\n",
    "def isPrime(i):\n",
    "        if i==1:\n",
    "            return 0\n",
    "        elif i==2:\n",
    "            primes.append(i)\n",
    "            return 1 \n",
    "        else:\n",
    "            prime = anyMatch(i)\n",
    "            if prime == 0:\n",
    "                primes.append(i) \n",
    "                return 1\n",
    "            else:\n",
    "                return 0\n",
    "\n",
    "\n",
    "primes = []\n",
    "counter = 2\n",
    "value = 600851475143\n",
    "factors = []\n",
    "result = 0\n",
    "while math.prod(factors) != value:\n",
    "    if isPrime(counter):\n",
    "        if value%counter == 0:\n",
    "                  result = counter\n",
    "                  factors.append(result)\n",
    "    counter+=1\n",
    "print(factors[-1])"
   ]
  },
  {
   "cell_type": "markdown",
   "metadata": {},
   "source": [
    "**Problem 4**"
   ]
  },
  {
   "cell_type": "code",
   "execution_count": 1,
   "metadata": {},
   "outputs": [
    {
     "name": "stdout",
     "output_type": "stream",
     "text": [
      "906609\n"
     ]
    }
   ],
   "source": [
    "palindromes = [0]\n",
    "\n",
    "def findPalindrome(i):\n",
    "    list = []\n",
    "    while i>**Problem 1**:\n",
    "        filler = i%10\n",
    "        list.append(filler)\n",
    "        i = int(i/10)\n",
    "    n=1\n",
    "    while n<=int(len(list)/2):\n",
    "        if list[n-1] != list[-n]:\n",
    "            return 0\n",
    "        n+=1\n",
    "    return 1\n",
    "\n",
    "\n",
    "x = 999\n",
    "y = 999\n",
    "while x>=100:\n",
    "    while y>=100:\n",
    "        pal = x*y\n",
    "        if findPalindrome(pal) == 1:\n",
    "            palindromes.append(pal)\n",
    "        y -= 1\n",
    "    y = 999\n",
    "    x -= 1\n",
    "print(max(palindromes))"
   ]
  },
  {
   "cell_type": "markdown",
   "metadata": {},
   "source": [
    "**Problem 5**"
   ]
  },
  {
   "cell_type": "code",
   "execution_count": 2,
   "metadata": {},
   "outputs": [
    {
     "name": "stdout",
     "output_type": "stream",
     "text": [
      "232792560\n"
     ]
    }
   ],
   "source": [
    "def findEvenDivisibleNumber():\n",
    "    max = 2*3*4*5*6*7*8*9*10*11*12*13*14*15*16*17*18*19*20\n",
    "    count = 20\n",
    "\n",
    "    while count <= max:\n",
    "        if(count%19==0 and count%18==0 and count%17==0 and count%16==0 and count%15==0 \n",
    "           and count%14==0 and count%13==0 and count%12==0 and count%11==0 and count%9==0\n",
    "           and count%8==0 and count%7==0 and count%6==0 and count%4==0 and count%3==0):\n",
    "            return count\n",
    "        count += 20\n",
    "\n",
    "print(findEvenDivisibleNumber())"
   ]
  },
  {
   "cell_type": "markdown",
   "metadata": {},
   "source": [
    "**Problem 6**"
   ]
  },
  {
   "cell_type": "code",
   "execution_count": 3,
   "metadata": {},
   "outputs": [
    {
     "name": "stdout",
     "output_type": "stream",
     "text": [
      "25164150\n"
     ]
    }
   ],
   "source": [
    "countSum = 0\n",
    "countQuad = 0\n",
    "for x in range(1,101):\n",
    "    countSum += x\n",
    "    countQuad += x*x\n",
    "print((countSum*countSum)-countQuad)"
   ]
  },
  {
   "cell_type": "markdown",
   "metadata": {},
   "source": [
    "**Problem 7**"
   ]
  },
  {
   "cell_type": "code",
   "execution_count": 6,
   "metadata": {},
   "outputs": [
    {
     "name": "stdout",
     "output_type": "stream",
     "text": [
      "104743\n"
     ]
    }
   ],
   "source": [
    "def anyMatch(i):\n",
    "    for x in primes: \n",
    "        if i%x == 0:\n",
    "            return 1\n",
    "    return 0\n",
    "def isPrime(i):\n",
    "        if i==1:\n",
    "            return 0\n",
    "        elif i==2:\n",
    "            primes.append(i)\n",
    "            return 1 \n",
    "        else:\n",
    "            prime = anyMatch(i)\n",
    "            if prime == 0:\n",
    "                primes.append(i) \n",
    "                return 1\n",
    "            else:\n",
    "                return 0\n",
    "            \n",
    "primes = []\n",
    "counter = 2\n",
    "while len(primes) != 10001:\n",
    "    isPrime(counter)\n",
    "    counter+=1\n",
    "print(primes[-1])"
   ]
  },
  {
   "cell_type": "markdown",
   "metadata": {},
   "source": [
    "**Problem 8**"
   ]
  },
  {
   "cell_type": "code",
   "execution_count": 5,
   "metadata": {},
   "outputs": [
    {
     "name": "stdout",
     "output_type": "stream",
     "text": [
      "23514624000\n"
     ]
    }
   ],
   "source": [
    "number = \"7316717653133062491922511967442657474235534919493496983520312774506326239578318016984801869478851843858615607891129494954595017379583319528532088055111254069874715852386305071569329096329522744304355766896648950445244523161731856403098711121722383113622298934233803081353362766142828064444866452387493035890729629049156044077239071381051585930796086670172427121883998797908792274921901699720888093776657273330010533678812202354218097512545405947522435258490771167055601360483958644670632441572215539753697817977846174064955149290862569321978468622482839722413756570560574902614079729686524145351004748216637048440319989000889524345065854122758866688116427171479924442928230863465674813919123162824586178664583591245665294765456828489128831426076900422421902267105562632111110937054421750694165896040807198403850962455444362981230987879927244284909188845801561660979191338754992005240636899125607176060588611646710940507754100225698315520005593572972571636269561882670428252483600823257530420752963450\"\n",
    "number_List = []\n",
    "for x in number:\n",
    "     number_List.append(int(x))\n",
    "i = 0    \n",
    "prod = 0\n",
    "while i <= len(number_List)-13:\n",
    "    newProd = 1\n",
    "    for j in range(13):\n",
    "        newProd = newProd*number_List[i+j] \n",
    "    if(prod<newProd):\n",
    "        prod = newProd\n",
    "    i += 1\n",
    "print(prod)"
   ]
  },
  {
   "cell_type": "markdown",
   "metadata": {},
   "source": [
    "**Problem 68**"
   ]
  },
  {
   "cell_type": "code",
   "execution_count": 39,
   "metadata": {},
   "outputs": [
    {
     "name": "stdout",
     "output_type": "stream",
     "text": [
      "6531031914842725\n"
     ]
    }
   ],
   "source": [
    "from itertools import permutations\n",
    "\n",
    "a,b,c,d,e,f,g,h,i,j = 0,0,0,0,0,0,0,0,0,0\n",
    "\n",
    "perms = permutations([10,9,8,7,6,5,4,3,2,1])  \n",
    "perms = list(perms)\n",
    "\n",
    "gon_ring = []\n",
    "\n",
    "for x in perms:\n",
    "    a,b,c,d,e,f,g,h,i,j = x[0],x[1],x[2],x[3],x[4],x[5],x[6],x[7],x[8],x[9]\n",
    "    if a+f+g == b+g+h and a+f+g == c+h+i and a+f+g == d+i+j and a+f+g == e+j+f and a<b and a<c and a<d and a<e:\n",
    "        y = str(a) + str(f) + str(g) + str(b) + str(g) + str(h) + str(c) + str(h) + str(i) + str(d) + str(i) + str(j) + str(e) + str(j) + str(f)\n",
    "        gon_ring.append(y)\n",
    "\n",
    "result = 0\n",
    "for x in gon_ring:\n",
    "    if len(x) == 16 and result < int(x):\n",
    "        result = int(x)\n",
    "        \n",
    "print(result)"
   ]
  }
 ],
 "metadata": {
  "kernelspec": {
   "display_name": "Python 3",
   "language": "python",
   "name": "python3"
  },
  "language_info": {
   "codemirror_mode": {
    "name": "ipython",
    "version": 3
   },
   "file_extension": ".py",
   "mimetype": "text/x-python",
   "name": "python",
   "nbconvert_exporter": "python",
   "pygments_lexer": "ipython3",
   "version": "3.8.5"
  }
 },
 "nbformat": 4,
 "nbformat_minor": 2
}
