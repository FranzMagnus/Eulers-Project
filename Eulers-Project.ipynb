{
 "cells": [
  {
   "cell_type": "code",
   "execution_count": 1,
   "metadata": {},
   "outputs": [
    {
     "name": "stdout",
     "output_type": "stream",
     "text": [
      "233168\n"
     ]
    }
   ],
   "source": [
    "#Problem 1\n",
    "number = int(input(\"Please enter Number: \"))\n",
    "output = 0\n",
    "i=1\n",
    "while i<number:\n",
    "    if i%3 == 0 or i%5 == 0:\n",
    "        output+=i\n",
    "    i += 1\n",
    "print(output)"
   ]
  },
  {
   "cell_type": "code",
   "execution_count": 2,
   "metadata": {},
   "outputs": [
    {
     "name": "stdout",
     "output_type": "stream",
     "text": [
      "4613732\n"
     ]
    }
   ],
   "source": [
    "#Problem 2\n",
    "output=0\n",
    "one = 1\n",
    "two = 1\n",
    "sum = 0\n",
    "while sum < 4000000:\n",
    "    sum = one+two\n",
    "    one = two\n",
    "    two = sum\n",
    "    if sum%2 == 0:\n",
    "     output+=sum\n",
    "print(output)"
   ]
  },
  {
   "cell_type": "code",
   "execution_count": 7,
   "metadata": {},
   "outputs": [
    {
     "name": "stdout",
     "output_type": "stream",
     "text": [
      "6857\n"
     ]
    }
   ],
   "source": [
    "#Problem 3\n",
    "import math\n",
    "def anyMatch(i):\n",
    "    for x in primes: \n",
    "        if i%x == 0:\n",
    "            return 1\n",
    "    return 0\n",
    "def isPrime(i):\n",
    "        if i==1:\n",
    "            return 0\n",
    "        elif i==2:\n",
    "            primes.append(i)\n",
    "            return 1 \n",
    "        else:\n",
    "            prime = anyMatch(i)\n",
    "            if prime == 0:\n",
    "                primes.append(i) \n",
    "                return 1\n",
    "            else:\n",
    "                return 0\n",
    "\n",
    "\n",
    "primes = []\n",
    "counter = 2\n",
    "value = 600851475143\n",
    "factors = []\n",
    "result = 0\n",
    "while math.prod(factors) != value:\n",
    "    if isPrime(counter):\n",
    "        if value%counter == 0:\n",
    "                  result = counter\n",
    "                  factors.append(result)\n",
    "    counter+=1\n",
    "print(factors[-1])"
   ]
  },
  {
   "cell_type": "code",
   "execution_count": 51,
   "metadata": {},
   "outputs": [
    {
     "name": "stdout",
     "output_type": "stream",
     "text": [
      "906609\n"
     ]
    }
   ],
   "source": [
    "#Problem 4\n",
    "\n",
    "palindromes = [0]\n",
    "\n",
    "def findPalindrome(i):\n",
    "    list = []\n",
    "    while i>0:\n",
    "        filler = i%10\n",
    "        list.append(filler)\n",
    "        i = int(i/10)\n",
    "    n=1\n",
    "    while n<=int(len(list)/2):\n",
    "        if list[n-1] != list[-n]:\n",
    "            return 0\n",
    "        n+=1\n",
    "    return 1\n",
    "\n",
    "\n",
    "x = 999\n",
    "y = 999\n",
    "while x>=100:\n",
    "    while y>=100:\n",
    "        pal = x*y\n",
    "        if findPalindrome(pal) == 1:\n",
    "            palindromes.append(pal)\n",
    "        y -= 1\n",
    "    y = 999\n",
    "    x -= 1\n",
    "print(max(palindromes))"
   ]
  },
  {
   "cell_type": "code",
   "execution_count": null,
   "metadata": {},
   "outputs": [],
   "source": []
  }
 ],
 "metadata": {
  "kernelspec": {
   "display_name": "Python 3",
   "language": "python",
   "name": "python3"
  },
  "language_info": {
   "codemirror_mode": {
    "name": "ipython",
    "version": 3
   },
   "file_extension": ".py",
   "mimetype": "text/x-python",
   "name": "python",
   "nbconvert_exporter": "python",
   "pygments_lexer": "ipython3",
   "version": "3.8.5"
  }
 },
 "nbformat": 4,
 "nbformat_minor": 2
}
